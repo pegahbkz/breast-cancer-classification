{
 "cells": [
  {
   "cell_type": "code",
   "execution_count": 1,
   "id": "49ed57e2-d762-4c0a-b096-7989055f03bb",
   "metadata": {
    "tags": []
   },
   "outputs": [],
   "source": [
    "import pandas as pd\n",
    "import sklearn\n",
    "from sklearn.neighbors import KNeighborsClassifier\n",
    "from sklearn.naive_bayes import GaussianNB\n",
    "from sklearn.tree import DecisionTreeClassifier\n",
    "from sklearn.svm import SVC"
   ]
  },
  {
   "cell_type": "code",
   "execution_count": 2,
   "id": "d0a6ec4d-2552-4d74-b764-c5fe13a54054",
   "metadata": {
    "tags": []
   },
   "outputs": [
    {
     "name": "stdout",
     "output_type": "stream",
     "text": [
      "           id diagnosis  radius_mean  texture_mean  perimeter_mean  area_mean   \n",
      "0      842302         M        17.99         10.38          122.80     1001.0  \\\n",
      "1      842517         M        20.57         17.77          132.90     1326.0   \n",
      "2    84300903         M        19.69         21.25          130.00     1203.0   \n",
      "3    84348301         M        11.42         20.38           77.58      386.1   \n",
      "4    84358402         M        20.29         14.34          135.10     1297.0   \n",
      "..        ...       ...          ...           ...             ...        ...   \n",
      "564    926424         M        21.56         22.39          142.00     1479.0   \n",
      "565    926682         M        20.13         28.25          131.20     1261.0   \n",
      "566    926954         M        16.60         28.08          108.30      858.1   \n",
      "567    927241         M        20.60         29.33          140.10     1265.0   \n",
      "568     92751         B         7.76         24.54           47.92      181.0   \n",
      "\n",
      "     smoothness_mean  compactness_mean  concavity_mean  concave points_mean   \n",
      "0            0.11840           0.27760         0.30010              0.14710  \\\n",
      "1            0.08474           0.07864         0.08690              0.07017   \n",
      "2            0.10960           0.15990         0.19740              0.12790   \n",
      "3            0.14250           0.28390         0.24140              0.10520   \n",
      "4            0.10030           0.13280         0.19800              0.10430   \n",
      "..               ...               ...             ...                  ...   \n",
      "564          0.11100           0.11590         0.24390              0.13890   \n",
      "565          0.09780           0.10340         0.14400              0.09791   \n",
      "566          0.08455           0.10230         0.09251              0.05302   \n",
      "567          0.11780           0.27700         0.35140              0.15200   \n",
      "568          0.05263           0.04362         0.00000              0.00000   \n",
      "\n",
      "     ...  texture_worst  perimeter_worst  area_worst  smoothness_worst   \n",
      "0    ...          17.33           184.60      2019.0           0.16220  \\\n",
      "1    ...          23.41           158.80      1956.0           0.12380   \n",
      "2    ...          25.53           152.50      1709.0           0.14440   \n",
      "3    ...          26.50            98.87       567.7           0.20980   \n",
      "4    ...          16.67           152.20      1575.0           0.13740   \n",
      "..   ...            ...              ...         ...               ...   \n",
      "564  ...          26.40           166.10      2027.0           0.14100   \n",
      "565  ...          38.25           155.00      1731.0           0.11660   \n",
      "566  ...          34.12           126.70      1124.0           0.11390   \n",
      "567  ...          39.42           184.60      1821.0           0.16500   \n",
      "568  ...          30.37            59.16       268.6           0.08996   \n",
      "\n",
      "     compactness_worst  concavity_worst  concave points_worst  symmetry_worst   \n",
      "0              0.66560           0.7119                0.2654          0.4601  \\\n",
      "1              0.18660           0.2416                0.1860          0.2750   \n",
      "2              0.42450           0.4504                0.2430          0.3613   \n",
      "3              0.86630           0.6869                0.2575          0.6638   \n",
      "4              0.20500           0.4000                0.1625          0.2364   \n",
      "..                 ...              ...                   ...             ...   \n",
      "564            0.21130           0.4107                0.2216          0.2060   \n",
      "565            0.19220           0.3215                0.1628          0.2572   \n",
      "566            0.30940           0.3403                0.1418          0.2218   \n",
      "567            0.86810           0.9387                0.2650          0.4087   \n",
      "568            0.06444           0.0000                0.0000          0.2871   \n",
      "\n",
      "     fractal_dimension_worst  Unnamed: 32  \n",
      "0                    0.11890          NaN  \n",
      "1                    0.08902          NaN  \n",
      "2                    0.08758          NaN  \n",
      "3                    0.17300          NaN  \n",
      "4                    0.07678          NaN  \n",
      "..                       ...          ...  \n",
      "564                  0.07115          NaN  \n",
      "565                  0.06637          NaN  \n",
      "566                  0.07820          NaN  \n",
      "567                  0.12400          NaN  \n",
      "568                  0.07039          NaN  \n",
      "\n",
      "[569 rows x 33 columns]\n"
     ]
    }
   ],
   "source": [
    "#read csv file\n",
    "data = pd.read_csv('data.csv')\n",
    "#print data\n",
    "print(data.head(569))"
   ]
  },
  {
   "cell_type": "code",
   "execution_count": 3,
   "id": "f9c0ba45-5078-4289-9170-c51431ef00b5",
   "metadata": {
    "tags": []
   },
   "outputs": [],
   "source": [
    "#remove id from list of features\n",
    "data.drop('id', axis=1, inplace=True)\n",
    "\n",
    "#select list of samples and list of features\n",
    "#rows: samples\n",
    "#columns: list of features except for the first one which is our labels\n",
    "X = data.iloc[:,1:31].values\n",
    "\n",
    "#select 'diagnosis as label 'M' or 'B'\n",
    "y = data['diagnosis']"
   ]
  },
  {
   "cell_type": "code",
   "execution_count": 4,
   "id": "4c3bf527-3c58-43a8-a08e-48564e16eb07",
   "metadata": {
    "tags": []
   },
   "outputs": [
    {
     "name": "stdout",
     "output_type": "stream",
     "text": [
      "[[2.722e+01 2.187e+01 1.821e+02 ... 2.688e-01 2.856e-01 8.082e-02]\n",
      " [2.110e+01 2.052e+01 1.381e+02 ... 2.280e-01 2.268e-01 7.425e-02]\n",
      " [1.585e+01 2.395e+01 1.037e+02 ... 1.119e-01 2.809e-01 6.287e-02]\n",
      " ...\n",
      " [1.185e+01 1.746e+01 7.554e+01 ... 9.140e-02 3.101e-01 7.007e-02]\n",
      " [1.321e+01 2.806e+01 8.488e+01 ... 7.958e-02 2.473e-01 6.443e-02]\n",
      " [1.354e+01 1.436e+01 8.746e+01 ... 1.288e-01 2.977e-01 7.259e-02]]\n",
      "180    M\n",
      "449    M\n",
      "13     M\n",
      "472    B\n",
      "504    B\n",
      "      ..\n",
      "537    B\n",
      "24     M\n",
      "293    B\n",
      "543    B\n",
      "19     B\n",
      "Name: diagnosis, Length: 455, dtype: object\n"
     ]
    }
   ],
   "source": [
    "#select training set and test set\n",
    "X_train, X_test, y_train, y_test = sklearn.model_selection.train_test_split(X, y, test_size=0.20, random_state=27)\n",
    "print(X_train)  \n",
    "print(y_train)"
   ]
  },
  {
   "cell_type": "code",
   "execution_count": 21,
   "id": "e223d0bc-9bff-48c3-8d83-74a089f15a46",
   "metadata": {
    "tags": []
   },
   "outputs": [
    {
     "name": "stdout",
     "output_type": "stream",
     "text": [
      "Accuracy: 0.8947368421052632\n",
      "Confusion Matrix:\n",
      "[[68 11]\n",
      " [ 1 34]]\n",
      "              precision    recall  f1-score   support\n",
      "\n",
      "           B       0.99      0.86      0.92        79\n",
      "           M       0.76      0.97      0.85        35\n",
      "\n",
      "    accuracy                           0.89       114\n",
      "   macro avg       0.87      0.92      0.88       114\n",
      "weighted avg       0.91      0.89      0.90       114\n",
      "\n"
     ]
    }
   ],
   "source": [
    "#SVC Model\n",
    "SVC_model = SVC()\n",
    "SVC_model.fit(X_train, y_train)\n",
    "SVC_prediction = SVC_model.predict(X_test)\n",
    "print('Accuracy:', sklearn.metrics.accuracy_score(SVC_prediction, y_test))\n",
    "print('Confusion Matrix:')\n",
    "print(sklearn.metrics.confusion_matrix(SVC_prediction, y_test))\n",
    "print(sklearn.metrics.classification_report(SVC_prediction, y_test))"
   ]
  },
  {
   "cell_type": "code",
   "execution_count": 22,
   "id": "1ecbbdfb-7488-46ff-adde-3c030e535ae0",
   "metadata": {
    "tags": []
   },
   "outputs": [
    {
     "name": "stdout",
     "output_type": "stream",
     "text": [
      "Accuracy: 0.9210526315789473\n",
      "Confusion Matrix:\n",
      "[[66  6]\n",
      " [ 3 39]]\n",
      "              precision    recall  f1-score   support\n",
      "\n",
      "           B       0.96      0.92      0.94        72\n",
      "           M       0.87      0.93      0.90        42\n",
      "\n",
      "    accuracy                           0.92       114\n",
      "   macro avg       0.91      0.92      0.92       114\n",
      "weighted avg       0.92      0.92      0.92       114\n",
      "\n"
     ]
    }
   ],
   "source": [
    "#Decision Tree Model\n",
    "DT_model = DecisionTreeClassifier()\n",
    "DT_model.fit(X_train, y_train)\n",
    "DT_prediction = DT_model.predict(X_test)\n",
    "print('Accuracy:', sklearn.metrics.accuracy_score(DT_prediction, y_test))\n",
    "print('Confusion Matrix:')\n",
    "print(sklearn.metrics.confusion_matrix(DT_prediction, y_test))\n",
    "print(sklearn.metrics.classification_report(DT_prediction, y_test))"
   ]
  },
  {
   "cell_type": "code",
   "execution_count": 28,
   "id": "b214d63f-3b6d-4ef7-9a96-197c26b247a5",
   "metadata": {
    "tags": []
   },
   "outputs": [
    {
     "data": {
      "image/png": "[encoded data removed]",
      "text/plain": [
       "<Figure size 640x480 with 1 Axes>"
      ]
     },
     "metadata": {},
     "output_type": "display_data"
    }
   ],
   "source": [
    "import matplotlib.pyplot as plt\n",
    "import numpy as np\n",
    "\n",
    "#finding k for KNN:\n",
    "#create x-axis which is k = number of neighbors\n",
    "neighbors = []\n",
    "\n",
    "#array for result of classification with each k\n",
    "KNN_model = []\n",
    "\n",
    "#perform KNN for k = 2 to 9\n",
    "for i in range(2, 10):\n",
    "    neighbors.append(i)\n",
    "    KNN_model.append(KNeighborsClassifier(n_neighbors=i))\n",
    "\n",
    "KNN_prediction = []\n",
    "for j in KNN_model:\n",
    "    j.fit(X_train, y_train)\n",
    "    KNN_prediction.append(j.predict(X_test))\n",
    "\n",
    "#compare accuracy of each k    \n",
    "accuracy = []\n",
    "for z in KNN_prediction:\n",
    "    accuracy.append(sklearn.metrics.accuracy_score(z, y_test))\n",
    "\n",
    "#draw chart for accuracy of each k\n",
    "plt.plot(neighbors, accuracy)\n",
    "plt.xlabel(\"K\")\n",
    "plt.ylabel(\"Accuracy\")\n",
    "plt.show()"
   ]
  },
  {
   "cell_type": "code",
   "execution_count": 32,
   "id": "57238a50-1294-4c52-9f95-0d70b7425e24",
   "metadata": {
    "tags": []
   },
   "outputs": [
    {
     "name": "stdout",
     "output_type": "stream",
     "text": [
      "Accuracy: 0.9385964912280702\n",
      "Confusion Matrix:\n",
      "[[68  6]\n",
      " [ 1 39]]\n",
      "              precision    recall  f1-score   support\n",
      "\n",
      "           B       0.99      0.92      0.95        74\n",
      "           M       0.87      0.97      0.92        40\n",
      "\n",
      "    accuracy                           0.94       114\n",
      "   macro avg       0.93      0.95      0.93       114\n",
      "weighted avg       0.94      0.94      0.94       114\n",
      "\n"
     ]
    }
   ],
   "source": [
    "#Kth Nearest Neighbor Model\n",
    "KNN_model = KNeighborsClassifier(n_neighbors=3)\n",
    "KNN_model.fit(X_train, y_train)\n",
    "KNN_prediction = KNN_model.predict(X_test)\n",
    "print('Accuracy:', sklearn.metrics.accuracy_score(KNN_prediction, y_test))\n",
    "print('Confusion Matrix:')\n",
    "print(sklearn.metrics.confusion_matrix(KNN_prediction, y_test))\n",
    "print(sklearn.metrics.classification_report(KNN_prediction, y_test))"
   ]
  },
  {
   "cell_type": "code",
   "execution_count": 25,
   "id": "865fc33f-7ddc-4ca7-8778-8248427fdb0c",
   "metadata": {
    "tags": []
   },
   "outputs": [
    {
     "name": "stdout",
     "output_type": "stream",
     "text": [
      "Accuracy: 0.9473684210526315\n",
      "Confusion Matrix:\n",
      "[[68  5]\n",
      " [ 1 40]]\n",
      "              precision    recall  f1-score   support\n",
      "\n",
      "           B       0.99      0.93      0.96        73\n",
      "           M       0.89      0.98      0.93        41\n",
      "\n",
      "    accuracy                           0.95       114\n",
      "   macro avg       0.94      0.95      0.94       114\n",
      "weighted avg       0.95      0.95      0.95       114\n",
      "\n"
     ]
    }
   ],
   "source": [
    "#Naive Bayes Model\n",
    "NB_model = GaussianNB()\n",
    "NB_model.fit(X_train, y_train)\n",
    "NB_prediction = NB_model.predict(X_test)\n",
    "print('Accuracy:', sklearn.metrics.accuracy_score(NB_prediction, y_test))\n",
    "print('Confusion Matrix:')\n",
    "print(sklearn.metrics.confusion_matrix(NB_prediction, y_test))\n",
    "print(sklearn.metrics.classification_report(NB_prediction, y_test))"
   ]
  },
  {
   "cell_type": "code",
   "execution_count": 39,
   "id": "d1a1658d-bbb5-4bb2-9704-5b3ab16cefb8",
   "metadata": {
    "tags": []
   },
   "outputs": [
    {
     "data": {
      "image/png": "[encoded data removed]",
      "text/plain": [
       "<Figure size 640x480 with 1 Axes>"
      ]
     },
     "metadata": {},
     "output_type": "display_data"
    }
   ],
   "source": [
    "#compare accuracy of each algorithm\n",
    "accuracies = []\n",
    "accuracies.append(sklearn.metrics.accuracy_score(DT_prediction, y_test))\n",
    "accuracies.append(sklearn.metrics.accuracy_score(SVC_prediction, y_test))\n",
    "accuracies.append(sklearn.metrics.accuracy_score(KNN_prediction, y_test))\n",
    "accuracies.append(sklearn.metrics.accuracy_score(NB_prediction, y_test))\n",
    "\n",
    "algorithms = ['DT', 'SVC', 'KNN', 'NB']\n",
    "\n",
    "#draw chart to show accuracy of algorithms in python implementation\n",
    "plt.plot(algorithms, accuracies, 'o')\n",
    "plt.xlabel(\"Algorithm\")\n",
    "plt.ylabel(\"Accuracy\")\n",
    "plt.show()"
   ]
  },
  {
   "cell_type": "code",
   "execution_count": 41,
   "id": "eb74cf6f-97cc-4551-85f0-6a8b0b119ad0",
   "metadata": {
    "tags": []
   },
   "outputs": [
    {
     "data": {
      "image/png": "[encoded data removed]",
      "text/plain": [
       "<Figure size 640x480 with 1 Axes>"
      ]
     },
     "metadata": {},
     "output_type": "display_data"
    }
   ],
   "source": [
    "#compare accuracy of each algorithm\n",
    "accuracies = []\n",
    "accuracies.append(0.935)\n",
    "accuracies.append(0.848)\n",
    "accuracies.append(0.957)\n",
    "accuracies.append(0.983)\n",
    "\n",
    "algorithms = ['DT', 'SVC', 'KNN', 'NB']\n",
    "\n",
    "#draw chart to show accuracy of algorithms in orange implementation\n",
    "plt.plot(algorithms, accuracies, 'o')\n",
    "plt.xlabel(\"Algorithm\")\n",
    "plt.ylabel(\"Accuracy\")\n",
    "plt.show()"
   ]
  },
  {
   "cell_type": "code",
   "execution_count": null,
   "id": "de14f347-f313-47a7-9b82-f299e45fbf3e",
   "metadata": {},
   "outputs": [],
   "source": []
  }
 ],
 "metadata": {
  "kernelspec": {
   "display_name": "Python 3 (ipykernel)",
   "language": "python",
   "name": "python3"
  },
  "language_info": {
   "codemirror_mode": {
    "name": "ipython",
    "version": 3
   },
   "file_extension": ".py",
   "mimetype": "text/x-python",
   "name": "python",
   "nbconvert_exporter": "python",
   "pygments_lexer": "ipython3",
   "version": "3.11.3"
  }
 },
 "nbformat": 4,
 "nbformat_minor": 5
}
